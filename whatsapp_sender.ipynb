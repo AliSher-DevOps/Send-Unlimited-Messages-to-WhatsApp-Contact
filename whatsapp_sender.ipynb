{
 "cells": [
  {
   "cell_type": "code",
   "execution_count": 33,
   "metadata": {},
   "outputs": [],
   "source": [
    "from selenium import webdriver\n",
    "from csv import reader\n",
    "import time\n",
    "import pandas as pd\n",
    "import string    \n",
    "import random\n",
    "driver=webdriver.Chrome(\"chromedriver.exe\")\n",
    "driver.get(\"https://web.whatsapp.com/\")"
   ]
  },
  {
   "cell_type": "code",
   "execution_count": 2,
   "metadata": {},
   "outputs": [],
   "source": [
    "address = \"https://web.whatsapp.com/send?phone=+923********1\"\n",
    "driver.get(address)"
   ]
  },
  {
   "cell_type": "code",
   "execution_count": 34,
   "metadata": {},
   "outputs": [
    {
     "name": "stdout",
     "output_type": "stream",
     "text": [
      "dead error\n"
     ]
    }
   ],
   "source": [
    "i = 112\n",
    "try:\n",
    "    while i < 1000:\n",
    "        S = 10  # number of characters in the string.  \n",
    "        # call random.choices() string module to find the string in Uppercase + numeric data.  \n",
    "        ran = ''.join(random.choices(string.ascii_uppercase + string.digits, k = S))\n",
    "        temp = ran+\".xml\"\n",
    "        \"\"\"t= driver.find_element_by_xpath(\"/html/body/div[1]/div[1]/div[1]/div[4]/div[1]/footer/div[1]/div/span[2]/div/div[2]/div[1]/div/div[2]\")\n",
    "        t.send_keys(\"Copying files : \",i,\"/10000\",\" --------------------> \",temp)\n",
    "        button = driver.find_element_by_class_name(\"_4sWnG\")\n",
    "        button.click()\n",
    "        i=i+1\n",
    "        t= driver.find_element_by_xpath(\"/html/body/div[1]/div[1]/div[1]/div[4]/div[1]/footer/div[1]/div/span[2]/div/div[2]/div[1]/div/div[2]\")\n",
    "        t.send_keys(\"Send \",temp,\"copy file to server\")\n",
    "        button = driver.find_element_by_class_name(\"_4sWnG\")\n",
    "        button.click()\"\"\"\n",
    "        t= driver.find_element_by_xpath(\"/html/body/div[1]/div[1]/div[1]/div[4]/div[1]/footer/div[1]/div/span[2]/div/div[2]/div[1]/div/div[2]\")\n",
    "        t.send_keys(\"Rula gya na kawish,Wo jo kheta tha hasty howa bht achy lagty ho\")\n",
    "        button = driver.find_element_by_class_name(\"_4sWnG\")\n",
    "        button.click()\n",
    "except:\n",
    "    print(\"dead error\")\n"
   ]
  },
  {
   "cell_type": "code",
   "execution_count": 16,
   "metadata": {},
   "outputs": [],
   "source": []
  },
  {
   "cell_type": "code",
   "execution_count": null,
   "metadata": {},
   "outputs": [],
   "source": []
  },
  {
   "cell_type": "code",
   "execution_count": null,
   "metadata": {},
   "outputs": [],
   "source": []
  }
 ],
 "metadata": {
  "kernelspec": {
   "display_name": "Python 3",
   "language": "python",
   "name": "python3"
  },
  "language_info": {
   "codemirror_mode": {
    "name": "ipython",
    "version": 3
   },
   "file_extension": ".py",
   "mimetype": "text/x-python",
   "name": "python",
   "nbconvert_exporter": "python",
   "pygments_lexer": "ipython3",
   "version": "3.7.6"
  }
 },
 "nbformat": 4,
 "nbformat_minor": 4
}
